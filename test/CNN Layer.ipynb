{
 "cells": [
  {
   "cell_type": "markdown",
   "id": "55c05cda",
   "metadata": {},
   "source": [
    "<h1>Implementation of a CNN Layer</h1>\n",
    "<h2>How a CNN Layer works</h2>\n",
    "<p>\n",
    "    Convolution layers are the major building blocks used in convolutional neural networks. In particular, a convolution \n",
    "    layer is composed of:\n",
    "    <ul>\n",
    "        <li>1 input channel, <b>C_in</b></li>\n",
    "        <li>N output channels, <b>C_out</b></li>\n",
    "    </ul> \n",
    "</p>\n",
    "<p>\n",
    "    The input channel is given by a matrix. Filters are given in the form of matrices as well. Each element of a given output\n",
    "    channel is calculated by doing a convolution operation between the the input channel and the filter associated to the\n",
    "    output channel.\n",
    "    The formula is the following:\n",
    "</p>"
   ]
  },
  {
   "cell_type": "markdown",
   "id": "d29c4961",
   "metadata": {},
   "source": [
    "$$C_{out}(i)(x,y) = \\sum_{j=0,k=0}^{j=w,k=h}f_i(j,k)C_{in}(x_{i} + j, y_i + k)$$"
   ]
  },
  {
   "cell_type": "markdown",
   "id": "93999bc0",
   "metadata": {},
   "source": [
    "<p>    \n",
    "    Notice that: the dimension of the filter matrix is smaller than the dimension of the input matrix. The convolution is\n",
    "    applied to a submatrix of the input matrix. x_i and y_i are offsets in the input matrix which depend on the element of\n",
    "    the output matrix to calculate.\n",
    "</p>"
   ]
  },
  {
   "cell_type": "markdown",
   "id": "428de654",
   "metadata": {},
   "source": [
    "<h2>Implementation</h2>\n",
    "<p>The following python code give a pratical implementation of a <i>convolution layer</i>:</p>"
   ]
  },
  {
   "cell_type": "code",
   "execution_count": 39,
   "id": "26696411",
   "metadata": {},
   "outputs": [
    {
     "name": "stdout",
     "output_type": "stream",
     "text": [
      "EXAMPLE \tINPUT: 5x5\tFILTER: 3x3\tOUTPUT: 3x3\n",
      "\n",
      "INPUT MATRIX:\n",
      "1\t1\t1\t0\t0\n",
      "0\t1\t1\t1\t0\n",
      "0\t0\t1\t1\t1\n",
      "0\t0\t1\t1\t0\n",
      "0\t1\t1\t0\t0\n",
      "\n",
      "\n",
      "FILTER MATRIX:\n",
      "1\t0\t1\n",
      "0\t1\t0\n",
      "1\t0\t1\n",
      "\n",
      "\n",
      "OUTPUT MATRIX:\n",
      "4\t3\t4\n",
      "2\t4\t3\n",
      "2\t3\t4\n"
     ]
    }
   ],
   "source": [
    "def print_matrix(matrix):\n",
    "    for i in matrix:\n",
    "        print('\\t'.join(map(str, i)))\n",
    "        \n",
    "    \n",
    "def calculate_element(input, filter, width, height, x_offset, y_offset):\n",
    "    element = 0\n",
    "    for i in range(0, width):\n",
    "        for j in range(0, height):\n",
    "            element += (filter[i][j]*input[i + x_offset][j + y_offset])\n",
    "    return element\n",
    "\n",
    "\n",
    "def convolution_layer(input, filter, output, width, height):\n",
    "    for i in range(0, width):\n",
    "        for j in range(0, height):\n",
    "            output[i][j] = calculate_element(input, filter, width, height, i, j)\n",
    "    \n",
    "\n",
    "C_in  = [[1,1,1,0,0], [0,1,1,1,0], [0,0,1,1,1], [0,0,1,1,0], [0,1,1,0,0]]\n",
    "f_i   = [[1,0,1], [0,1,0], [1,0,1]]\n",
    "C_out = [[0,0,0], [0,0,0], [0,0,0]]\n",
    "\n",
    "\n",
    "print('EXAMPLE \\tINPUT: 5x5\\tFILTER: 3x3\\tOUTPUT: 3x3\\n')\n",
    "\n",
    "print('INPUT MATRIX:')\n",
    "print_matrix(C_in)\n",
    "print('\\n')\n",
    "\n",
    "print('FILTER MATRIX:')\n",
    "print_matrix(f_i)\n",
    "print('\\n')\n",
    "\n",
    "convolution_layer(C_in, f_i, C_out, 3, 3)\n",
    "        \n",
    "print('OUTPUT MATRIX:')\n",
    "print_matrix(C_out)"
   ]
  },
  {
   "cell_type": "markdown",
   "id": "96a2b5de",
   "metadata": {},
   "source": [
    "<h2>Test</h2>"
   ]
  },
  {
   "cell_type": "code",
   "execution_count": 40,
   "id": "ef67b950",
   "metadata": {},
   "outputs": [
    {
     "name": "stdout",
     "output_type": "stream",
     "text": [
      "TEST 1 \tINPUT: 4x4\tFILTER: 2x2\tOUTPUT: 2x2\n",
      "\n",
      "INPUT MATRIX:\n",
      "1\t1\t1\t0\n",
      "1\t0\t1\t0\n",
      "0\t0\t0\t0\n",
      "1\t1\t0\t0\n",
      "\n",
      "\n",
      "FILTER MATRIX:\n",
      "0\t1\n",
      "1\t0\n",
      "\n",
      "\n",
      "OUTPUT MATRIX:\n",
      "2\t1\n",
      "0\t1\n"
     ]
    }
   ],
   "source": [
    "print('TEST 1 \\tINPUT: 4x4\\tFILTER: 2x2\\tOUTPUT: 2x2\\n')\n",
    "\n",
    "\n",
    "C_in  = [[1,1,1,0], [1,0,1,0], [0,0,0,0], [1,1,0,0]]\n",
    "f_i   = [[0,1], [1,0]]\n",
    "C_out = [[0,0], [0,0]]\n",
    "\n",
    "\n",
    "print('INPUT MATRIX:')\n",
    "print_matrix(C_in)\n",
    "print('\\n')\n",
    "\n",
    "print('FILTER MATRIX:')\n",
    "print_matrix(f_i)\n",
    "print('\\n')\n",
    "\n",
    "convolution_layer(C_in, f_i, C_out, 2, 2)\n",
    "\n",
    "print('OUTPUT MATRIX:')\n",
    "print_matrix(C_out)"
   ]
  },
  {
   "cell_type": "code",
   "execution_count": 41,
   "id": "06970441",
   "metadata": {},
   "outputs": [
    {
     "name": "stdout",
     "output_type": "stream",
     "text": [
      "TEST 2 \tINPUT: 5x5\tFILTER: 3x3\tOUTPUT: 3x3\n",
      "\n",
      "INPUT MATRIX:\n",
      "1\t1\t1\t0\t1\n",
      "1\t0\t1\t0\t1\n",
      "0\t0\t1\t0\t1\n",
      "1\t1\t0\t0\t1\n",
      "0\t1\t0\t1\t1\n",
      "\n",
      "\n",
      "FILTER MATRIX:\n",
      "0\t1\t1\n",
      "1\t0\t1\n",
      "1\t0\t0\n",
      "\n",
      "\n",
      "OUTPUT MATRIX:\n",
      "4\t1\t4\n",
      "3\t2\t3\n",
      "2\t3\t2\n"
     ]
    }
   ],
   "source": [
    "print('TEST 2 \\tINPUT: 5x5\\tFILTER: 3x3\\tOUTPUT: 3x3\\n')\n",
    "\n",
    "\n",
    "C_in  = [[1,1,1,0,1], [1,0,1,0,1], [0,0,1,0,1], [1,1,0,0,1], [0,1,0,1,1]]\n",
    "f_i   = [[0,1,1], [1,0,1], [1,0,0]]\n",
    "C_out = [[0,0,0], [0,0,0], [0,0,0]]\n",
    "\n",
    "\n",
    "print('INPUT MATRIX:')\n",
    "print_matrix(C_in)\n",
    "print('\\n')\n",
    "\n",
    "print('FILTER MATRIX:')\n",
    "print_matrix(f_i)\n",
    "print('\\n')\n",
    "\n",
    "convolution_layer(C_in, f_i, C_out, 3, 3)\n",
    "\n",
    "print('OUTPUT MATRIX:')\n",
    "print_matrix(C_out)"
   ]
  },
  {
   "cell_type": "code",
   "execution_count": 42,
   "id": "d13f3ea9",
   "metadata": {},
   "outputs": [
    {
     "name": "stdout",
     "output_type": "stream",
     "text": [
      "TEST 3 \tINPUT: 6x6\tFILTER: 3x3\tOUTPUT: 3x3\n",
      "\n",
      "INPUT MATRIX:\n",
      "1\t0\t0\t0\t1\t1\n",
      "1\t0\t1\t0\t0\t1\n",
      "1\t1\t0\t1\t0\t1\n",
      "0\t0\t1\t0\t0\t1\n",
      "0\t1\t1\t0\t1\t1\n",
      "0\t1\t0\t1\t1\t1\n",
      "\n",
      "\n",
      "FILTER MATRIX:\n",
      "0\t1\t1\n",
      "0\t0\t1\n",
      "1\t1\t0\n",
      "\n",
      "\n",
      "OUTPUT MATRIX:\n",
      "3\t1\t2\n",
      "1\t3\t1\n",
      "3\t3\t2\n"
     ]
    }
   ],
   "source": [
    "print('TEST 3 \\tINPUT: 6x6\\tFILTER: 3x3\\tOUTPUT: 3x3\\n')\n",
    "\n",
    "\n",
    "C_in  = [[1,0,0,0,1,1], [1,0,1,0,0,1], [1,1,0,1,0,1], [0,0,1,0,0,1], [0,1,1,0,1,1], [0,1,0,1,1,1]]\n",
    "f_i   = [[0,1,1], [0,0,1], [1,1,0]]\n",
    "C_out = [[0,0,0], [0,0,0], [0,0,0]]\n",
    "\n",
    "\n",
    "print('INPUT MATRIX:')\n",
    "print_matrix(C_in)\n",
    "print('\\n')\n",
    "\n",
    "print('FILTER MATRIX:')\n",
    "print_matrix(f_i)\n",
    "print('\\n')\n",
    "\n",
    "convolution_layer(C_in, f_i, C_out, 3, 3)\n",
    "\n",
    "print('OUTPUT MATRIX:')\n",
    "print_matrix(C_out)"
   ]
  },
  {
   "cell_type": "code",
   "execution_count": 43,
   "id": "58e1935c",
   "metadata": {},
   "outputs": [
    {
     "name": "stdout",
     "output_type": "stream",
     "text": [
      "TEST 4 \tINPUT: 8x8\tFILTER: 4x4\tOUTPUT: 4x4\n",
      "\n",
      "INPUT MATRIX:\n",
      "1\t1\t1\t0\t0\t1\t0\t0\n",
      "1\t0\t1\t0\t1\t1\t1\t0\n",
      "0\t0\t0\t0\t1\t1\t1\t0\n",
      "1\t1\t0\t0\t1\t1\t1\t0\n",
      "1\t0\t1\t0\t1\t1\t0\t0\n",
      "1\t0\t1\t0\t0\t1\t0\t1\n",
      "1\t1\t1\t1\t1\t1\t1\t0\n",
      "1\t0\t1\t0\t1\t0\t1\t0\n",
      "\n",
      "\n",
      "FILTER MATRIX:\n",
      "1\t0\t1\t0\n",
      "1\t0\t0\t1\n",
      "0\t1\t0\t1\n",
      "0\t0\t0\t1\n",
      "\n",
      "\n",
      "OUTPUT MATRIX:\n",
      "3\t4\t5\t5\n",
      "3\t3\t5\t4\n",
      "1\t4\t4\t3\n",
      "3\t4\t5\t2\n"
     ]
    }
   ],
   "source": [
    "print('TEST 4 \\tINPUT: 8x8\\tFILTER: 4x4\\tOUTPUT: 4x4\\n')\n",
    "\n",
    "\n",
    "C_in  = [[1,1,1,0,0,1,0,0], [1,0,1,0,1,1,1,0], [0,0,0,0,1,1,1,0], [1,1,0,0,1,1,1,0], [1,0,1,0,1,1,0,0], \n",
    "         [1,0,1,0,0,1,0,1], [1,1,1,1,1,1,1,0], [1,0,1,0,1,0,1,0]]\n",
    "f_i   = [[1,0,1,0], [1,0,0,1], [0,1,0,1], [0,0,0,1]]\n",
    "C_out = [[0,0,0,0], [0,0,0,0], [0,0,0,0], [0,0,0,0]]\n",
    "\n",
    "\n",
    "print('INPUT MATRIX:')\n",
    "print_matrix(C_in)\n",
    "print('\\n')\n",
    "\n",
    "print('FILTER MATRIX:')\n",
    "print_matrix(f_i)\n",
    "print('\\n')\n",
    "\n",
    "convolution_layer(C_in, f_i, C_out, 4, 4)\n",
    "\n",
    "print('OUTPUT MATRIX:')\n",
    "print_matrix(C_out)"
   ]
  },
  {
   "cell_type": "code",
   "execution_count": 44,
   "id": "e6e77a63",
   "metadata": {},
   "outputs": [
    {
     "name": "stdout",
     "output_type": "stream",
     "text": [
      "TEST 5 \tINPUT: 10x10\tFILTER: 5x5\tOUTPUT: 5x5\n",
      "\n",
      "INPUT MATRIX:\n",
      "1\t1\t1\t0\t1\t1\t0\t1\t0\t0\n",
      "1\t0\t0\t1\t1\t0\t1\t1\t1\t0\n",
      "1\t1\t0\t0\t0\t0\t1\t1\t1\t0\n",
      "1\t0\t1\t1\t0\t0\t1\t1\t1\t0\n",
      "1\t0\t1\t0\t1\t0\t1\t1\t0\t0\n",
      "1\t0\t1\t0\t0\t1\t1\t0\t0\t1\n",
      "1\t0\t0\t1\t1\t1\t1\t1\t1\t0\n",
      "1\t0\t1\t0\t1\t0\t1\t0\t0\t0\n",
      "0\t0\t0\t1\t1\t1\t0\t1\t1\t0\n",
      "1\t0\t0\t0\t1\t0\t0\t1\t1\t0\n",
      "\n",
      "\n",
      "FILTER MATRIX:\n",
      "1\t0\t1\t1\t0\n",
      "0\t0\t0\t1\t1\n",
      "1\t1\t1\t1\t1\n",
      "1\t0\t0\t0\t1\n",
      "1\t1\t0\t0\t1\n",
      "\n",
      "\n",
      "OUTPUT MATRIX:\n",
      "9\t5\t9\t9\t9\n",
      "8\t6\t9\t8\t10\n",
      "8\t5\t8\t9\t10\n",
      "10\t6\t8\t9\t8\n",
      "8\t6\t11\t10\t12\n"
     ]
    }
   ],
   "source": [
    "print('TEST 5 \\tINPUT: 10x10\\tFILTER: 5x5\\tOUTPUT: 5x5\\n')\n",
    "\n",
    "\n",
    "C_in  = [[1,1,1,0,1,1,0,1,0,0], [1,0,0,1,1,0,1,1,1,0], [1,1,0,0,0,0,1,1,1,0], [1,0,1,1,0,0,1,1,1,0], [1,0,1,0,1,0,1,1,0,0], \n",
    "         [1,0,1,0,0,1,1,0,0,1], [1,0,0,1,1,1,1,1,1,0], [1,0,1,0,1,0,1,0,0,0], [0,0,0,1,1,1,0,1,1,0], [1,0,0,0,1,0,0,1,1,0]]\n",
    "f_i   = [[1,0,1,1,0], [0,0,0,1,1], [1,1,1,1,1], [1,0,0,0,1], [1,1,0,0,1]]\n",
    "C_out = [[0,0,0,0,0], [0,0,0,0,0], [0,0,0,0,0], [0,0,0,0,0], [0,0,0,0,0]]\n",
    "\n",
    "\n",
    "print('INPUT MATRIX:')\n",
    "print_matrix(C_in)\n",
    "print('\\n')\n",
    "\n",
    "print('FILTER MATRIX:')\n",
    "print_matrix(f_i)\n",
    "print('\\n')\n",
    "\n",
    "convolution_layer(C_in, f_i, C_out, 5, 5)\n",
    "\n",
    "print('OUTPUT MATRIX:')\n",
    "print_matrix(C_out)"
   ]
  },
  {
   "cell_type": "code",
   "execution_count": 45,
   "id": "078a2f69",
   "metadata": {},
   "outputs": [
    {
     "name": "stdout",
     "output_type": "stream",
     "text": [
      "TEST 6 \tINPUT: 12x12\tFILTER: 6x6\tOUTPUT: 6x6\n",
      "\n",
      "INPUT MATRIX:\n",
      "1\t1\t1\t0\t1\t1\t0\t1\t0\t0\t1\t1\n",
      "1\t0\t0\t1\t1\t0\t1\t0\t1\t0\t1\t1\n",
      "0\t1\t0\t0\t0\t0\t1\t1\t0\t0\t0\t1\n",
      "1\t0\t1\t1\t0\t0\t1\t1\t1\t0\t1\t1\n",
      "1\t0\t0\t0\t1\t0\t1\t1\t1\t0\t1\t1\n",
      "0\t0\t1\t0\t0\t1\t0\t1\t0\t1\t0\t1\n",
      "1\t0\t0\t1\t0\t1\t1\t1\t1\t0\t0\t1\n",
      "1\t0\t1\t0\t1\t0\t1\t0\t1\t1\t0\t1\n",
      "0\t0\t1\t1\t1\t1\t0\t1\t1\t1\t0\t0\n",
      "1\t0\t0\t0\t1\t0\t0\t1\t1\t1\t0\t1\n",
      "1\t0\t1\t1\t0\t0\t1\t0\t1\t1\t0\t0\n",
      "1\t0\t0\t0\t0\t1\t1\t0\t1\t0\t0\t1\n",
      "\n",
      "\n",
      "FILTER MATRIX:\n",
      "1\t0\t1\t1\t0\t1\n",
      "1\t0\t0\t0\t1\t1\n",
      "0\t1\t1\t1\t1\t1\n",
      "1\t1\t0\t0\t0\t1\n",
      "1\t1\t1\t0\t0\t1\n",
      "1\t1\t0\t0\t1\t1\n",
      "\n",
      "\n",
      "OUTPUT MATRIX:\n",
      "9\t9\t14\t10\t10\t13\n",
      "9\t12\t12\t13\t10\t12\n",
      "7\t10\t13\t13\t13\t12\n",
      "13\t10\t13\t15\t15\t11\n",
      "9\t10\t14\t16\t16\t12\n",
      "9\t8\t15\t14\t13\t10\n"
     ]
    }
   ],
   "source": [
    "print('TEST 6 \\tINPUT: 12x12\\tFILTER: 6x6\\tOUTPUT: 6x6\\n')\n",
    "\n",
    "\n",
    "C_in  = [[1,1,1,0,1,1,0,1,0,0,1,1], [1,0,0,1,1,0,1,0,1,0,1,1], [0,1,0,0,0,0,1,1,0,0,0,1], [1,0,1,1,0,0,1,1,1,0,1,1], \n",
    "         [1,0,0,0,1,0,1,1,1,0,1,1], [0,0,1,0,0,1,0,1,0,1,0,1], [1,0,0,1,0,1,1,1,1,0,0,1], [1,0,1,0,1,0,1,0,1,1,0,1], \n",
    "         [0,0,1,1,1,1,0,1,1,1,0,0], [1,0,0,0,1,0,0,1,1,1,0,1], [1,0,1,1,0,0,1,0,1,1,0,0], [1,0,0,0,0,1,1,0,1,0,0,1]]\n",
    "f_i   = [[1,0,1,1,0,1], [1,0,0,0,1,1], [0,1,1,1,1,1], [1,1,0,0,0,1], [1,1,1,0,0,1], [1,1,0,0,1,1]]\n",
    "C_out = [[0,0,0,0,0,0], [0,0,0,0,0,0], [0,0,0,0,0,0], [0,0,0,0,0,0], [0,0,0,0,0,0], [0,0,0,0,0,0]]\n",
    "\n",
    "\n",
    "print('INPUT MATRIX:')\n",
    "print_matrix(C_in)\n",
    "print('\\n')\n",
    "\n",
    "print('FILTER MATRIX:')\n",
    "print_matrix(f_i)\n",
    "print('\\n')\n",
    "\n",
    "convolution_layer(C_in, f_i, C_out, 6, 6)\n",
    "\n",
    "print('OUTPUT MATRIX:')\n",
    "print_matrix(C_out)"
   ]
  }
 ],
 "metadata": {
  "kernelspec": {
   "display_name": "Python 3.9.13 ('base')",
   "language": "python",
   "name": "python3"
  },
  "language_info": {
   "codemirror_mode": {
    "name": "ipython",
    "version": 3
   },
   "file_extension": ".py",
   "mimetype": "text/x-python",
   "name": "python",
   "nbconvert_exporter": "python",
   "pygments_lexer": "ipython3",
   "version": "3.9.13"
  },
  "vscode": {
   "interpreter": {
    "hash": "16f5b46f222e2a3e8d4adbf7141cae37b71ed37616e60735fa5d1164a1bc3ada"
   }
  }
 },
 "nbformat": 4,
 "nbformat_minor": 5
}
